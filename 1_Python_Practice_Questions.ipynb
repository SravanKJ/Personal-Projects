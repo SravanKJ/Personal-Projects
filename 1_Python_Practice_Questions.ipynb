{
  "nbformat": 4,
  "nbformat_minor": 0,
  "metadata": {
    "kernelspec": {
      "display_name": "Python 3",
      "language": "python",
      "name": "python3"
    },
    "language_info": {
      "codemirror_mode": {
        "name": "ipython",
        "version": 3
      },
      "file_extension": ".py",
      "mimetype": "text/x-python",
      "name": "python",
      "nbconvert_exporter": "python",
      "pygments_lexer": "ipython3",
      "version": "3.7.6"
    },
    "colab": {
      "name": "1.Python Practice Questions.ipynb",
      "provenance": [],
      "include_colab_link": true
    }
  },
  "cells": [
    {
      "cell_type": "markdown",
      "metadata": {
        "id": "view-in-github",
        "colab_type": "text"
      },
      "source": [
        "<a href=\"https://colab.research.google.com/github/SravanKJ/Personal-Projects/blob/master/1_Python_Practice_Questions.ipynb\" target=\"_parent\"><img src=\"https://colab.research.google.com/assets/colab-badge.svg\" alt=\"Open In Colab\"/></a>"
      ]
    },
    {
      "cell_type": "markdown",
      "metadata": {
        "id": "DFeu2GlMkrXC",
        "colab_type": "text"
      },
      "source": [
        "## 1. Write a function that inputs a number and prints the multiplication table of that number\n"
      ]
    },
    {
      "cell_type": "code",
      "metadata": {
        "scrolled": false,
        "id": "7vKOifMEkrXI",
        "colab_type": "code",
        "colab": {},
        "outputId": "c59e401d-6611-470a-f8c0-581fadadd10a"
      },
      "source": [
        "num = int(input(\"Enter a number : \"))\n",
        "\n",
        "\n",
        "def multiplication(a):\n",
        "    \"\"\"\n",
        "    multiplication table of a given number till 10 \n",
        "    \"\"\"\n",
        "    i = 1\n",
        "    while i <= 10 :\n",
        "        print(f\"{num} * {i} = \" ,a*i)\n",
        "        i+=1\n",
        "    \n",
        "    \n",
        "    \n",
        "print(\"\\nMultiplication table of a given number till 10 \\n\")    \n",
        "multiplication(num)\n",
        "    "
      ],
      "execution_count": null,
      "outputs": [
        {
          "output_type": "stream",
          "text": [
            "Enter a number : 3\n",
            "\n",
            "Multiplication table of a given number till 10 \n",
            "\n",
            "3 * 1 =  3\n",
            "3 * 2 =  6\n",
            "3 * 3 =  9\n",
            "3 * 4 =  12\n",
            "3 * 5 =  15\n",
            "3 * 6 =  18\n",
            "3 * 7 =  21\n",
            "3 * 8 =  24\n",
            "3 * 9 =  27\n",
            "3 * 10 =  30\n"
          ],
          "name": "stdout"
        }
      ]
    },
    {
      "cell_type": "markdown",
      "metadata": {
        "id": "9gQI-r32krXe",
        "colab_type": "text"
      },
      "source": [
        "## 2. Write a program to print twin primes less than 1000. \n",
        "If two consecutive odd numbers are both prime then they are known as twin primes\n"
      ]
    },
    {
      "cell_type": "code",
      "metadata": {
        "scrolled": true,
        "id": "jYjFOp0AkrXg",
        "colab_type": "code",
        "colab": {},
        "outputId": "b02e46cd-9a3b-4624-a45e-e790dc864a3e"
      },
      "source": [
        "def IsPrime(num):\n",
        "    '''\n",
        "       To check if the number is prime\n",
        "    '''\n",
        "    for i in range(2,num):\n",
        "        if num % i == 0:\n",
        "            return False\n",
        "    return True\n",
        "\n",
        "\n",
        "#TwinPrimes logic reffered from Tutorials Point\n",
        "def TwinPrimes(num):\n",
        "    '''\n",
        "      Calculates twin primes in given range(here given is 1000)\n",
        "    '''\n",
        "    #since twin primes start from 3 taking range from 3.\n",
        "    for i in range(3,num):\n",
        "        j = i+2\n",
        "        if (IsPrime(i) and IsPrime(j)):\n",
        "            print(f'({i} , {j})')\n",
        "            \n",
        "            \n",
        "TwinPrimes(1000)\n",
        "    \n",
        "\n"
      ],
      "execution_count": null,
      "outputs": [
        {
          "output_type": "stream",
          "text": [
            "(3 , 5)\n",
            "(5 , 7)\n",
            "(11 , 13)\n",
            "(17 , 19)\n",
            "(29 , 31)\n",
            "(41 , 43)\n",
            "(59 , 61)\n",
            "(71 , 73)\n",
            "(101 , 103)\n",
            "(107 , 109)\n",
            "(137 , 139)\n",
            "(149 , 151)\n",
            "(179 , 181)\n",
            "(191 , 193)\n",
            "(197 , 199)\n",
            "(227 , 229)\n",
            "(239 , 241)\n",
            "(269 , 271)\n",
            "(281 , 283)\n",
            "(311 , 313)\n",
            "(347 , 349)\n",
            "(419 , 421)\n",
            "(431 , 433)\n",
            "(461 , 463)\n",
            "(521 , 523)\n",
            "(569 , 571)\n",
            "(599 , 601)\n",
            "(617 , 619)\n",
            "(641 , 643)\n",
            "(659 , 661)\n",
            "(809 , 811)\n",
            "(821 , 823)\n",
            "(827 , 829)\n",
            "(857 , 859)\n",
            "(881 , 883)\n"
          ],
          "name": "stdout"
        }
      ]
    },
    {
      "cell_type": "markdown",
      "metadata": {
        "id": "puWyRUgYkrXt",
        "colab_type": "text"
      },
      "source": [
        "## 3. Write a program to find out the prime factors of a number. \n",
        "Example: prime factors of 56 - 2, 2, 2, 7"
      ]
    },
    {
      "cell_type": "code",
      "metadata": {
        "id": "UxX5Il0MkrXv",
        "colab_type": "code",
        "colab": {},
        "outputId": "3a155c92-6e7b-41d4-e4bb-8b8b9283b3f2"
      },
      "source": [
        "#imported math package as we are using sqrt \n",
        "import math\n",
        "from math import ceil\n",
        "\n",
        "number = int(input(\"Please Enter a number : \"))\n",
        "\n",
        "#logic reffered from GeeksforGeeks\n",
        "\n",
        "def PrimeFactors(number):\n",
        "    print(f'prime factors of {number} -',end=' ')\n",
        "    \n",
        "    #if the given number is even find how many times it is divisible by 2\n",
        "    while number%2 == 0:\n",
        "        print(2,end=','),\n",
        "        number=number/2\n",
        "        \n",
        "        \n",
        "    #if given number is odd,take range from 3 to the squareroot of given number with a step size of 2     \n",
        "    for i in range(3,ceil(math.sqrt(number)),2):\n",
        "        while number%i == 0:\n",
        "            print(i,end=','),\n",
        "            number = number/i\n",
        "            \n",
        "    \n",
        "    #if the given number is above 2 and prime print that number itself\n",
        "    if number>2:\n",
        "        print(int(number),end='')\n",
        "    \n",
        "    \n",
        "    \n",
        "    \n",
        "PrimeFactors(number)"
      ],
      "execution_count": null,
      "outputs": [
        {
          "output_type": "stream",
          "text": [
            "Please Enter a number : 56\n",
            "prime factors of 56 - 2,2,2,7"
          ],
          "name": "stdout"
        }
      ]
    },
    {
      "cell_type": "markdown",
      "metadata": {
        "id": "cLR7UyZUkrX9",
        "colab_type": "text"
      },
      "source": [
        "## 4. Write a program to implement these formulae of permutations and combinations.\n",
        "Number of permutations of n objects taken r at a time: p(n, r) = n! / (n-r)!. Number of\n",
        "combinations of n objects taken r at a time is: c(n, r) = n! / (r!*(n-r)!) = p(n,r) / r!"
      ]
    },
    {
      "cell_type": "code",
      "metadata": {
        "id": "Oa37Y4kZkrX_",
        "colab_type": "code",
        "colab": {},
        "outputId": "aab1863f-12e9-4aad-d910-f6bc3b775b1c"
      },
      "source": [
        "n = int(input(\"Enter the Object 'n' : \"))\n",
        "r = int(input(\"Enter the times 'r' : \"))\n",
        "def factorial(num):\n",
        "    '''\n",
        "     Function to find no.of permuatations and combinations of n objects taken r times\n",
        "    '''\n",
        "    prod = 1\n",
        "    for i in range(1,num+1):\n",
        "        prod = prod*i\n",
        "    return prod\n",
        "    \n",
        "def Permutation(n,r):\n",
        "    perm = factorial(n)/factorial(n-r)\n",
        "    print(f'p({n},{r}) = {perm}')\n",
        "\n",
        "def Combination(n,r):\n",
        "    comb = factorial(n)/(factorial(r)*factorial(n-r))\n",
        "    print(f'c({n},{r}) = {comb}')\n",
        "    \n",
        "\n",
        "Permutation(n,r)\n",
        "Combination(n,r)"
      ],
      "execution_count": null,
      "outputs": [
        {
          "output_type": "stream",
          "text": [
            "Enter the Object 'n' : 5\n",
            "Enter the times 'r' : 3\n",
            "p(5,3) = 60.0\n",
            "c(5,3) = 10.0\n"
          ],
          "name": "stdout"
        }
      ]
    },
    {
      "cell_type": "markdown",
      "metadata": {
        "id": "DZ1M3z0FkrYN",
        "colab_type": "text"
      },
      "source": [
        "## 5. Write a function that converts a decimal number to binary number"
      ]
    },
    {
      "cell_type": "code",
      "metadata": {
        "id": "TIjs1jKPkrYP",
        "colab_type": "code",
        "colab": {}
      },
      "source": [
        "number = int(input(\"Please Enter a Decimal number : \"))\n",
        "\n",
        "\n",
        "def DecimalToBinary(number):\n",
        "    if number > 1:\n",
        "        #number = number//2\n",
        "        DecimalToBinary(number // 2)\n",
        "    print(number % 2,end='')\n",
        "        \n",
        "        \n",
        "print(f'Binary value of {number} - ',end='')        \n",
        "\n",
        "\n",
        "DecimalToBinary(number)"
      ],
      "execution_count": null,
      "outputs": []
    },
    {
      "cell_type": "markdown",
      "metadata": {
        "id": "wYriNVljkrYc",
        "colab_type": "text"
      },
      "source": [
        "## 6. Write a function cubesum() that accepts an integer and returns the sum of the cubes of individual digits of that number. \n",
        "Use this function to make functions PrintArmstrong() and isArmstrong() to print Armstrong numbers and to find whether is an Armstrong number."
      ]
    },
    {
      "cell_type": "code",
      "metadata": {
        "id": "AkhSuA0jkrYe",
        "colab_type": "code",
        "colab": {}
      },
      "source": [
        "number = int(input(\"Please Enter a number : \"))\n",
        "\n",
        "def cubesum(number):\n",
        "    '''\n",
        "      Functions that returns CubeSum of a number\n",
        "    '''\n",
        "    sum = 0\n",
        "    while(number != 0):\n",
        "        sum = sum + ((number%10)**3)\n",
        "        number=number//10\n",
        "    return sum\n",
        "   \n",
        "    \n",
        "\n",
        "def PrintArmstong():\n",
        "    print(f\"The list of all 3-Digit Armstrong numbers -\",end=\"\")\n",
        "    #since we are using this based on cubesum I am considering only 3-digit numbers\n",
        "    for num in range(100,1000):\n",
        "        sum = cubesum(num)\n",
        "        if sum == num:\n",
        "             print(num,end=\" \")\n",
        "\n",
        "def IsArmstrong(number):\n",
        "    '''\n",
        "      Function that equals the number with cubesum and returns if it is an Armstrong Number or Not..!\n",
        "    '''\n",
        "    sum = cubesum(number)\n",
        "    if number == sum:\n",
        "        print(f'{number} is an Armstrong Number')\n",
        "    else:\n",
        "        print(f'{number} is not an Armstrong Number')\n",
        "        \n",
        "        \n",
        "\n",
        "sum = cubesum(number)\n",
        "print(f'Sum of the cubes of individual digits of {number} is {sum}')\n",
        "IsArmstrong(number)\n",
        "PrintArmstong()\n"
      ],
      "execution_count": null,
      "outputs": []
    },
    {
      "cell_type": "markdown",
      "metadata": {
        "id": "QBvSmeZ7krYr",
        "colab_type": "text"
      },
      "source": [
        "## 7. Write a function prodDigits() that inputs a number and returns the product of digits of that number."
      ]
    },
    {
      "cell_type": "code",
      "metadata": {
        "id": "0fGa_ETakrYu",
        "colab_type": "code",
        "colab": {}
      },
      "source": [
        "number = int(input(\"Please Enter a number : \"))\n",
        "\n",
        "def prodDigits(number):\n",
        "    product = 1\n",
        "    while(number != 0):\n",
        "        product = product * (number%10)\n",
        "        number=number//10\n",
        "    return product\n",
        "    \n",
        "        \n",
        "        \n",
        "product = prodDigits(number)\n",
        "print(f'The Product of digits {number} is {product}')\n",
        "    \n",
        "\n",
        "\n"
      ],
      "execution_count": null,
      "outputs": []
    },
    {
      "cell_type": "markdown",
      "metadata": {
        "id": "w22wy6TpkrY9",
        "colab_type": "text"
      },
      "source": [
        "## 8. If all digits of a number n are multiplied by each other repeating with the product, the one digit number obtained at last is called the multiplicative digital root of n. The number of times digits need to be multiplied to reach one digit is called the multiplicative persistance of n.\n",
        "Example: 86 -> 48 -> 32 -> 6 (MDR 6, MPersistence 3)\n",
        "341 -> 12->2 (MDR 2, MPersistence 2)\n",
        "Using the function prodDigits() of previous exercise write functions MDR() and\n",
        "MPersistence() that input a number and return its multiplicative digital root and\n",
        "multiplicative persistence respectively"
      ]
    },
    {
      "cell_type": "code",
      "metadata": {
        "id": "ya9XbfTRkrZA",
        "colab_type": "code",
        "colab": {}
      },
      "source": [
        "number = int(input(\"Please Enter a number : \"))\n",
        "\n",
        "\n",
        "def MDR(number):\n",
        "    '''\n",
        "    This function returns the Multiplicative Digital Root(MDR) of a Number\n",
        "    '''\n",
        "    while(number>=10):\n",
        "        number = prodDigits(number)\n",
        "        \n",
        "    return number\n",
        "\n",
        "def MPersistence(number):\n",
        "    '''\n",
        "    This function returns the Multiplicative Persistence(MPersistence) of a Number\n",
        "    '''\n",
        "    count = 0\n",
        "    while(number>=10):\n",
        "        count = count+1\n",
        "        number = prodDigits(number)\n",
        "        \n",
        "    return count\n",
        "    \n",
        "\n",
        "mdr = MDR(number)\n",
        "count = MPersistence(number)\n",
        "\n",
        "print(f'MDR of {number} is {mdr} and its MPersistence is {count}')\n",
        "\n",
        "        \n",
        "    "
      ],
      "execution_count": null,
      "outputs": []
    },
    {
      "cell_type": "markdown",
      "metadata": {
        "id": "1IqhRRX7krZL",
        "colab_type": "text"
      },
      "source": [
        "## 9. Write a function sumPdivisors() that finds the sum of proper divisors of a number. \n",
        "Proper divisors of a number are those numbers by which the number is divisible, except the\n",
        "number itself. For example proper divisors of 36 are 1, 2, 3, 4, 6, 9, 18"
      ]
    },
    {
      "cell_type": "code",
      "metadata": {
        "id": "SHE7_mO9krZN",
        "colab_type": "code",
        "colab": {},
        "outputId": "5c4f6add-073d-49cd-c3d9-40ae6dd72b91"
      },
      "source": [
        "number = int(input(\"Please Enter a number : \"))\n",
        "\n",
        "\n",
        "def sumPdivisors(number):\n",
        "    '''\n",
        "    This function returns the sum of divisors of a Number\n",
        "    '''\n",
        "    sum = 0\n",
        "    i = 1\n",
        "    while(i < number):\n",
        "        if (number%i == 0):\n",
        "            sum = sum+i\n",
        "        i = i+1\n",
        "            \n",
        "    return sum\n",
        "\n",
        "\n",
        "\n",
        "sum = sumPdivisors(number)\n",
        "print(f'Sum of proper divisors of {number} is {sum}')"
      ],
      "execution_count": null,
      "outputs": [
        {
          "output_type": "stream",
          "text": [
            "Please Enter a number : 56\n",
            "Sum of proper divisors of 56 is 64\n"
          ],
          "name": "stdout"
        }
      ]
    },
    {
      "cell_type": "markdown",
      "metadata": {
        "id": "EWDA2ct9krZZ",
        "colab_type": "text"
      },
      "source": [
        "## 10. A number is called perfect if the sum of proper divisors of that number is equal to the number. \n",
        "For example 28 is perfect number, since 1+2+4+7+14=28. Write a program to\n",
        "print all the perfect numbers in a given range"
      ]
    },
    {
      "cell_type": "code",
      "metadata": {
        "id": "J0lBvb0PkrZb",
        "colab_type": "code",
        "colab": {},
        "outputId": "413028cd-0fd5-4186-d11a-ec5323600b89"
      },
      "source": [
        "number = int(input(\"Please Enter a number : \"))\n",
        "\n",
        "sum = sumPdivisors(number)\n",
        "\n",
        "\n",
        "if number == sum:\n",
        "    print(f'{number} is a Perfect number')\n",
        "    \n",
        "else:\n",
        "    print(f'{number} is not a Perfect number')"
      ],
      "execution_count": null,
      "outputs": [
        {
          "output_type": "stream",
          "text": [
            "Please Enter a number : 128\n",
            "128 is not a Perfect number\n"
          ],
          "name": "stdout"
        }
      ]
    },
    {
      "cell_type": "markdown",
      "metadata": {
        "id": "x6b9wm8BkrZq",
        "colab_type": "text"
      },
      "source": [
        "## 11. Two different numbers are called amicable numbers if the sum of the proper divisors of each is equal to the other number. \n",
        "For example 220 and 284 are amicable numbers.\n",
        "Sum of proper divisors of 220 = 1+2+4+5+10+11+20+22+44+55+110 = 284\n",
        "Sum of proper divisors of 284 = 1+2+4+71+142 = 220\n",
        "Write a function to print pairs of amicable numbers in a range"
      ]
    },
    {
      "cell_type": "code",
      "metadata": {
        "id": "_euYEESekrZt",
        "colab_type": "code",
        "colab": {}
      },
      "source": [
        "number = int(input(\"Enter the range of numbers\"))\n",
        "\n",
        "\n",
        "\n",
        "def ambicleNumbers(number):\n",
        "    num1=1\n",
        "    num2=2\n",
        "    for num1 in range(1,number):\n",
        "        for num2 in range(1,number):\n",
        "            sum1 = sumPdivisors(num1)\n",
        "            sum2 = sumPdivisors(num2)\n",
        "            if(num1!=num2 and sum1 == num2 and sum2==num1):\n",
        "                print(f'({num2},{num1})')\n",
        "            num1 = num1+1\n",
        "            num2 = num2+1\n",
        "    \n",
        "   \n",
        "        \n",
        "        \n",
        "ambicleNumbers(number)"
      ],
      "execution_count": null,
      "outputs": []
    },
    {
      "cell_type": "markdown",
      "metadata": {
        "id": "yVqSrC5JkrZ5",
        "colab_type": "text"
      },
      "source": [
        "## 12. Write a program which can filter odd numbers in a list by using filter function"
      ]
    },
    {
      "cell_type": "code",
      "metadata": {
        "id": "SDfk5fyVkrZ8",
        "colab_type": "code",
        "colab": {},
        "outputId": "83b01832-9d6c-4611-bc66-2aae95d04438"
      },
      "source": [
        "def odd_numbers(num):\n",
        "    return num%2==1\n",
        "\n",
        "\n",
        "lst = [-3,-2,-1,0,1,2,3,4,5,6,7,8,9,10]\n",
        "\n",
        "odd = list(filter(odd_numbers,lst))\n",
        "\n",
        "print(odd)"
      ],
      "execution_count": null,
      "outputs": [
        {
          "output_type": "stream",
          "text": [
            "[-3, -1, 1, 3, 5, 7, 9]\n"
          ],
          "name": "stdout"
        }
      ]
    },
    {
      "cell_type": "markdown",
      "metadata": {
        "id": "UqDs2CGtkraI",
        "colab_type": "text"
      },
      "source": [
        "## 13. Write a program which can map() to make a list whose elements are cube of elements in a given list"
      ]
    },
    {
      "cell_type": "code",
      "metadata": {
        "id": "WXIhhzv_kraK",
        "colab_type": "code",
        "colab": {},
        "outputId": "6e759259-e009-45d5-81b1-dddbb00a3dd1"
      },
      "source": [
        "def cubeofElements(num):\n",
        "    return num**3\n",
        "\n",
        "\n",
        "lst = [2,3,4,5,6,7,8,9]\n",
        "\n",
        "cube = list(map(cubeofElements,lst))\n",
        "\n",
        "print(cube)"
      ],
      "execution_count": null,
      "outputs": [
        {
          "output_type": "stream",
          "text": [
            "[8, 27, 64, 125, 216, 343, 512, 729]\n"
          ],
          "name": "stdout"
        }
      ]
    },
    {
      "cell_type": "markdown",
      "metadata": {
        "id": "BZmSYxHnkraV",
        "colab_type": "text"
      },
      "source": [
        "## 14. Write a program which can map() and filter() to make a list whose elements are cube of even number in a given list"
      ]
    },
    {
      "cell_type": "code",
      "metadata": {
        "id": "WM5ycMoYkraY",
        "colab_type": "code",
        "colab": {},
        "outputId": "73805414-7184-4bb4-d88d-3f9d7cbc558c"
      },
      "source": [
        "def even(num):\n",
        "    return num%2 == 0\n",
        "\n",
        "\n",
        "lst = [1,2,3,4,5,6,7,8,9,10]\n",
        "\n",
        "CubesofEven = list(map(cubeofElements,filter(even,lst)))\n",
        "\n",
        "print(CubesofEven)"
      ],
      "execution_count": null,
      "outputs": [
        {
          "output_type": "stream",
          "text": [
            "[8, 64, 216, 512, 1000]\n"
          ],
          "name": "stdout"
        }
      ]
    }
  ]
}